{
 "cells": [
  {
   "cell_type": "code",
   "execution_count": 1,
   "id": "469ebcfc",
   "metadata": {},
   "outputs": [],
   "source": [
    "def first_func():\n",
    "    print('We made it!')"
   ]
  },
  {
   "cell_type": "code",
   "execution_count": 2,
   "id": "fcd0f2ed",
   "metadata": {},
   "outputs": [
    {
     "name": "stdout",
     "output_type": "stream",
     "text": [
      "We made it!\n"
     ]
    }
   ],
   "source": [
    "first_func()"
   ]
  },
  {
   "cell_type": "code",
   "execution_count": 9,
   "id": "cb3a10d9",
   "metadata": {},
   "outputs": [],
   "source": [
    "def number_squared(number):\n",
    "    print(number ** 2)\n",
    "    "
   ]
  },
  {
   "cell_type": "code",
   "execution_count": 10,
   "id": "5dc6f9eb",
   "metadata": {},
   "outputs": [
    {
     "name": "stdout",
     "output_type": "stream",
     "text": [
      "64\n"
     ]
    }
   ],
   "source": [
    "number_squared(8)"
   ]
  },
  {
   "cell_type": "code",
   "execution_count": 7,
   "id": "293ce0f2",
   "metadata": {},
   "outputs": [],
   "source": [
    "def number_squared_cust(number,power):\n",
    "    print(number ** power)\n",
    "    "
   ]
  },
  {
   "cell_type": "code",
   "execution_count": 8,
   "id": "c34a4a9c",
   "metadata": {},
   "outputs": [
    {
     "name": "stdout",
     "output_type": "stream",
     "text": [
      "8\n"
     ]
    }
   ],
   "source": [
    "number_squared_cust(2,3)"
   ]
  },
  {
   "cell_type": "code",
   "execution_count": 13,
   "id": "819cbe2e",
   "metadata": {},
   "outputs": [],
   "source": [
    "args_tuple = (5,6,1,2,8)\n",
    "\n",
    "def number_args(*number):\n",
    "    print(number[0]*number[1])"
   ]
  },
  {
   "cell_type": "code",
   "execution_count": 15,
   "id": "93858744",
   "metadata": {},
   "outputs": [
    {
     "name": "stdout",
     "output_type": "stream",
     "text": [
      "30\n"
     ]
    }
   ],
   "source": [
    "number_args(*args_tuple)"
   ]
  },
  {
   "cell_type": "code",
   "execution_count": 28,
   "id": "bdc1d31e",
   "metadata": {},
   "outputs": [],
   "source": [
    "\n",
    "def number_kwargs(**number):\n",
    "    print('My number is: '+ number['integer']+' and My other number is: '+number['integer2'])"
   ]
  },
  {
   "cell_type": "code",
   "execution_count": 29,
   "id": "949b57c8",
   "metadata": {},
   "outputs": [
    {
     "name": "stdout",
     "output_type": "stream",
     "text": [
      "My number is: 2309 and My other number is: 50\n"
     ]
    }
   ],
   "source": [
    "number_kwargs(integer = '2309',integer2 = '50')"
   ]
  },
  {
   "cell_type": "markdown",
   "id": "680670c5",
   "metadata": {},
   "source": []
  },
  {
   "cell_type": "markdown",
   "id": "97b2bd25",
   "metadata": {},
   "source": [
    "BMI CALCULATOR"
   ]
  },
  {
   "cell_type": "code",
   "execution_count": 39,
   "id": "9a68581c",
   "metadata": {},
   "outputs": [
    {
     "name": "stdout",
     "output_type": "stream",
     "text": [
      "Enter your weight in pounds: 170\n",
      "Enter your height in inches: 60\n",
      "33.19722222222222\n"
     ]
    }
   ],
   "source": [
    "weight = int(input(\"Enter your weight in pounds: \"))\n",
    "height = int(input(\"Enter your height in inches: \"))\n",
    "BMI = (weight * 703)/(height ** 2)\n",
    "\n",
    "print(BMI)"
   ]
  },
  {
   "cell_type": "code",
   "execution_count": null,
   "id": "557d3ba1",
   "metadata": {},
   "outputs": [],
   "source": []
  },
  {
   "cell_type": "code",
   "execution_count": null,
   "id": "f566f90e",
   "metadata": {},
   "outputs": [],
   "source": []
  },
  {
   "cell_type": "markdown",
   "id": "83d70b45",
   "metadata": {},
   "source": [
    "Automated File Sorter in File Explorer "
   ]
  },
  {
   "cell_type": "code",
   "execution_count": 40,
   "id": "b72c372d",
   "metadata": {},
   "outputs": [],
   "source": [
    "import os, shutil"
   ]
  },
  {
   "cell_type": "code",
   "execution_count": 46,
   "id": "e117a09b",
   "metadata": {},
   "outputs": [],
   "source": [
    "path= r\"C:/Users/fokike/OneDrive/Python automated file sorter/\""
   ]
  },
  {
   "cell_type": "code",
   "execution_count": 51,
   "id": "58c8b1f8",
   "metadata": {},
   "outputs": [
    {
     "name": "stdout",
     "output_type": "stream",
     "text": [
      "['actuary.xlsx', 'Business Requirements Document for Advisor Check-in Feedback Scheduling.docx', 'Business Requirements Document for Advisor Check-in Feedback Scheduling.pdf', 'Business Requirements Document for Project Management Application - Favour O..docx', 'claims.jpg', 'excel files', 'image files', 'Intern List.xlsx', 'pdf files', 'word files']\n"
     ]
    }
   ],
   "source": [
    "file_name = os.listdir(path)\n",
    "print(file_name)"
   ]
  },
  {
   "cell_type": "code",
   "execution_count": 49,
   "id": "8d64d329",
   "metadata": {},
   "outputs": [],
   "source": [
    "folder_names= ['excel files','word files','pdf files','image files']\n",
    "\n",
    "for loop in range(0,4):\n",
    "    if not os.path.exists(path + folder_names[loop]):\n",
    "        os.makedirs(path + folder_names[loop])"
   ]
  },
  {
   "cell_type": "code",
   "execution_count": 54,
   "id": "5f5409ac",
   "metadata": {},
   "outputs": [],
   "source": [
    "for file in file_name:\n",
    "    if \".xlsx\" in file and not os.path.exists(path + \"excel files/\" + file):\n",
    "        shutil.move(path + file, path + \"excel files/\" + file)\n",
    "    elif \".docx\" in file and not os.path.exists(path + \"word files/\" + file):\n",
    "        shutil.move(path + file, path + \"word files/\" + file)\n",
    "    elif \".pdf\" in file and not os.path.exists(path + \"pdf files/\" + file):\n",
    "        shutil.move(path + file, path + \"pdf files/\" + file)\n",
    "    elif \".jpg\" in file and not os.path.exists(path + \"image files/\" + file):\n",
    "        shutil.move(path + file, path + \"image files/\" + file)\n",
    "        "
   ]
  },
  {
   "cell_type": "code",
   "execution_count": null,
   "id": "cc87d4da",
   "metadata": {},
   "outputs": [],
   "source": []
  }
 ],
 "metadata": {
  "kernelspec": {
   "display_name": "Python 3",
   "language": "python",
   "name": "python3"
  },
  "language_info": {
   "codemirror_mode": {
    "name": "ipython",
    "version": 3
   },
   "file_extension": ".py",
   "mimetype": "text/x-python",
   "name": "python",
   "nbconvert_exporter": "python",
   "pygments_lexer": "ipython3",
   "version": "3.8.8"
  }
 },
 "nbformat": 4,
 "nbformat_minor": 5
}
